{
 "cells": [
  {
   "cell_type": "markdown",
   "id": "b281ed79-b5a7-4189-bff9-ea4686724ef6",
   "metadata": {},
   "source": [
    "# Handwritten Digit Recognition with Deep Learning (Dense + CNN)\n",
    "\n",
    "This notebook builds and trains two models using TensorFlow/Keras:\n",
    "1. A simple **fully connected (dense)** neural network  \n",
    "2. A **Convolutional Neural Network (CNN)** for higher accuracy\n",
    "\n",
    "Based on the MNIST handwritten digit dataset.\n"
   ]
  },
  {
   "cell_type": "code",
   "execution_count": 2,
   "id": "147d62eb-f351-499c-ae1e-1b3c744eb934",
   "metadata": {},
   "outputs": [],
   "source": [
    "import numpy as np\n",
    "import matplotlib.pyplot as plt\n",
    "from tensorflow.keras.datasets import mnist\n",
    "from tensorflow.keras.models import Sequential\n",
    "from tensorflow.keras.layers import Dense, Flatten, Conv2D, MaxPooling2D\n",
    "from tensorflow.keras.utils import to_categorical\n"
   ]
  },
  {
   "cell_type": "markdown",
   "id": "947f97c4-cb8c-4738-a7b0-f235ae6ea8a6",
   "metadata": {},
   "source": [
    "## Step 1: Load and Prepare the Data\n",
    "\n",
    "- Normalize pixel values (0–255 → 0–1)\n",
    "- Convert labels using one-hot encoding\n",
    "- Reshape for CNN input if needed\n"
   ]
  },
  {
   "cell_type": "code",
   "execution_count": 3,
   "id": "a6068265-88f9-41a9-8fce-bda677adc0f5",
   "metadata": {},
   "outputs": [
    {
     "name": "stdout",
     "output_type": "stream",
     "text": [
      "Downloading data from https://storage.googleapis.com/tensorflow/tf-keras-datasets/mnist.npz\n",
      "\u001b[1m11490434/11490434\u001b[0m \u001b[32m━━━━━━━━━━━━━━━━━━━━\u001b[0m\u001b[37m\u001b[0m \u001b[1m2s\u001b[0m 0us/step\n"
     ]
    }
   ],
   "source": [
    "(x_train, y_train), (x_test, y_test) = mnist.load_data()\n",
    "\n",
    "# Normalize\n",
    "x_train = x_train / 255.0\n",
    "x_test = x_test / 255.0\n",
    "\n",
    "# For CNN: reshape to (samples, 28, 28, 1)\n",
    "x_train_cnn = x_train.reshape(-1, 28, 28, 1)\n",
    "x_test_cnn = x_test.reshape(-1, 28, 28, 1)\n",
    "\n",
    "# One-hot encode labels\n",
    "y_train_cat = to_categorical(y_train)\n",
    "y_test_cat = to_categorical(y_test)\n"
   ]
  },
  {
   "cell_type": "markdown",
   "id": "b78293ac-bf0f-4ddc-8eec-b564a82b2f0f",
   "metadata": {},
   "source": [
    "## Step 2: Dense Model (Fully Connected)\n",
    "\n",
    "A basic 2-layer neural network with:\n",
    "- Flatten layer\n",
    "- Dense hidden layer with 128 neurons (ReLU)\n",
    "- Output layer with 10 classes (Softmax)\n"
   ]
  },
  {
   "cell_type": "code",
   "execution_count": 4,
   "id": "141f99f1-17bf-40cc-8998-3290d4d235fb",
   "metadata": {},
   "outputs": [
    {
     "name": "stdout",
     "output_type": "stream",
     "text": [
      "Epoch 1/5\n"
     ]
    },
    {
     "name": "stderr",
     "output_type": "stream",
     "text": [
      "/files/home/part1/skumar/Bookworm/Desktop/ds-projects/ds-env/lib/python3.11/site-packages/keras/src/layers/reshaping/flatten.py:37: UserWarning: Do not pass an `input_shape`/`input_dim` argument to a layer. When using Sequential models, prefer using an `Input(shape)` object as the first layer in the model instead.\n",
      "  super().__init__(**kwargs)\n",
      "2025-07-15 22:36:10.935523: E external/local_xla/xla/stream_executor/cuda/cuda_platform.cc:51] failed call to cuInit: INTERNAL: CUDA error: Failed call to cuInit: UNKNOWN ERROR (303)\n"
     ]
    },
    {
     "name": "stdout",
     "output_type": "stream",
     "text": [
      "\u001b[1m1688/1688\u001b[0m \u001b[32m━━━━━━━━━━━━━━━━━━━━\u001b[0m\u001b[37m\u001b[0m \u001b[1m3s\u001b[0m 1ms/step - accuracy: 0.8691 - loss: 0.4521 - val_accuracy: 0.9640 - val_loss: 0.1272\n",
      "Epoch 2/5\n",
      "\u001b[1m1688/1688\u001b[0m \u001b[32m━━━━━━━━━━━━━━━━━━━━\u001b[0m\u001b[37m\u001b[0m \u001b[1m3s\u001b[0m 2ms/step - accuracy: 0.9617 - loss: 0.1306 - val_accuracy: 0.9718 - val_loss: 0.0971\n",
      "Epoch 3/5\n",
      "\u001b[1m1688/1688\u001b[0m \u001b[32m━━━━━━━━━━━━━━━━━━━━\u001b[0m\u001b[37m\u001b[0m \u001b[1m2s\u001b[0m 1ms/step - accuracy: 0.9742 - loss: 0.0829 - val_accuracy: 0.9765 - val_loss: 0.0778\n",
      "Epoch 4/5\n",
      "\u001b[1m1688/1688\u001b[0m \u001b[32m━━━━━━━━━━━━━━━━━━━━\u001b[0m\u001b[37m\u001b[0m \u001b[1m2s\u001b[0m 1ms/step - accuracy: 0.9821 - loss: 0.0588 - val_accuracy: 0.9763 - val_loss: 0.0810\n",
      "Epoch 5/5\n",
      "\u001b[1m1688/1688\u001b[0m \u001b[32m━━━━━━━━━━━━━━━━━━━━\u001b[0m\u001b[37m\u001b[0m \u001b[1m2s\u001b[0m 1ms/step - accuracy: 0.9851 - loss: 0.0463 - val_accuracy: 0.9802 - val_loss: 0.0707\n"
     ]
    },
    {
     "data": {
      "text/plain": [
       "<keras.src.callbacks.history.History at 0x7fd5e49b9c90>"
      ]
     },
     "execution_count": 4,
     "metadata": {},
     "output_type": "execute_result"
    }
   ],
   "source": [
    "dense_model = Sequential([\n",
    "    Flatten(input_shape=(28, 28)),\n",
    "    Dense(128, activation='relu'),\n",
    "    Dense(10, activation='softmax')\n",
    "])\n",
    "\n",
    "dense_model.compile(optimizer='adam',\n",
    "                    loss='categorical_crossentropy',\n",
    "                    metrics=['accuracy'])\n",
    "\n",
    "dense_model.fit(x_train, y_train_cat,\n",
    "                epochs=5, batch_size=32,\n",
    "                validation_split=0.1)\n"
   ]
  },
  {
   "cell_type": "markdown",
   "id": "06a445ed-9db7-44d2-b95e-06c1477bf420",
   "metadata": {},
   "source": [
    "## Step 3: CNN Model (Better Accuracy)\n",
    "\n",
    "Architecture:\n",
    "- Conv2D layer with 32 filters\n",
    "- MaxPooling\n",
    "- Flatten + Dense layers\n"
   ]
  },
  {
   "cell_type": "code",
   "execution_count": 5,
   "id": "b62660c1-7bf4-438c-bde3-f9e88d17eabb",
   "metadata": {},
   "outputs": [
    {
     "name": "stdout",
     "output_type": "stream",
     "text": [
      "Epoch 1/5\n"
     ]
    },
    {
     "name": "stderr",
     "output_type": "stream",
     "text": [
      "/files/home/part1/skumar/Bookworm/Desktop/ds-projects/ds-env/lib/python3.11/site-packages/keras/src/layers/convolutional/base_conv.py:113: UserWarning: Do not pass an `input_shape`/`input_dim` argument to a layer. When using Sequential models, prefer using an `Input(shape)` object as the first layer in the model instead.\n",
      "  super().__init__(activity_regularizer=activity_regularizer, **kwargs)\n"
     ]
    },
    {
     "name": "stdout",
     "output_type": "stream",
     "text": [
      "\u001b[1m1688/1688\u001b[0m \u001b[32m━━━━━━━━━━━━━━━━━━━━\u001b[0m\u001b[37m\u001b[0m \u001b[1m9s\u001b[0m 5ms/step - accuracy: 0.8922 - loss: 0.3580 - val_accuracy: 0.9802 - val_loss: 0.0700\n",
      "Epoch 2/5\n",
      "\u001b[1m1688/1688\u001b[0m \u001b[32m━━━━━━━━━━━━━━━━━━━━\u001b[0m\u001b[37m\u001b[0m \u001b[1m8s\u001b[0m 5ms/step - accuracy: 0.9811 - loss: 0.0636 - val_accuracy: 0.9868 - val_loss: 0.0548\n",
      "Epoch 3/5\n",
      "\u001b[1m1688/1688\u001b[0m \u001b[32m━━━━━━━━━━━━━━━━━━━━\u001b[0m\u001b[37m\u001b[0m \u001b[1m8s\u001b[0m 5ms/step - accuracy: 0.9875 - loss: 0.0401 - val_accuracy: 0.9855 - val_loss: 0.0560\n",
      "Epoch 4/5\n",
      "\u001b[1m1688/1688\u001b[0m \u001b[32m━━━━━━━━━━━━━━━━━━━━\u001b[0m\u001b[37m\u001b[0m \u001b[1m8s\u001b[0m 5ms/step - accuracy: 0.9906 - loss: 0.0294 - val_accuracy: 0.9862 - val_loss: 0.0529\n",
      "Epoch 5/5\n",
      "\u001b[1m1688/1688\u001b[0m \u001b[32m━━━━━━━━━━━━━━━━━━━━\u001b[0m\u001b[37m\u001b[0m \u001b[1m8s\u001b[0m 5ms/step - accuracy: 0.9944 - loss: 0.0190 - val_accuracy: 0.9880 - val_loss: 0.0518\n"
     ]
    },
    {
     "data": {
      "text/plain": [
       "<keras.src.callbacks.history.History at 0x7fd5a071a490>"
      ]
     },
     "execution_count": 5,
     "metadata": {},
     "output_type": "execute_result"
    }
   ],
   "source": [
    "cnn_model = Sequential([\n",
    "    Conv2D(32, kernel_size=(3, 3), activation='relu', input_shape=(28, 28, 1)),\n",
    "    MaxPooling2D(pool_size=(2, 2)),\n",
    "    Flatten(),\n",
    "    Dense(64, activation='relu'),\n",
    "    Dense(10, activation='softmax')\n",
    "])\n",
    "\n",
    "cnn_model.compile(optimizer='adam',\n",
    "                  loss='categorical_crossentropy',\n",
    "                  metrics=['accuracy'])\n",
    "\n",
    "cnn_model.fit(x_train_cnn, y_train_cat,\n",
    "              epochs=5, batch_size=32,\n",
    "              validation_split=0.1)\n"
   ]
  },
  {
   "cell_type": "code",
   "execution_count": 6,
   "id": "d775227f-6bdf-4f53-89be-b1948bda4a23",
   "metadata": {},
   "outputs": [
    {
     "name": "stdout",
     "output_type": "stream",
     "text": [
      "Dense Model Accuracy: 0.9741\n",
      "CNN Model Accuracy:   0.9845\n"
     ]
    }
   ],
   "source": [
    "dense_test_acc = dense_model.evaluate(x_test, y_test_cat, verbose=0)[1]\n",
    "cnn_test_acc = cnn_model.evaluate(x_test_cnn, y_test_cat, verbose=0)[1]\n",
    "\n",
    "print(f\"Dense Model Accuracy: {dense_test_acc:.4f}\")\n",
    "print(f\"CNN Model Accuracy:   {cnn_test_acc:.4f}\")\n"
   ]
  },
  {
   "cell_type": "code",
   "execution_count": 7,
   "id": "f7b4399b-0bd6-4301-96c8-d536248cbc1a",
   "metadata": {},
   "outputs": [
    {
     "name": "stdout",
     "output_type": "stream",
     "text": [
      "\u001b[1m313/313\u001b[0m \u001b[32m━━━━━━━━━━━━━━━━━━━━\u001b[0m\u001b[37m\u001b[0m \u001b[1m0s\u001b[0m 1ms/step\n"
     ]
    },
    {
     "data": {
      "image/png": "[encoded data removed]",
      "text/plain": [
       "<Figure size 640x480 with 1 Axes>"
      ]
     },
     "metadata": {},
     "output_type": "display_data"
    },
    {
     "data": {
      "image/png": "[encoded data removed]",
      "text/plain": [
       "<Figure size 640x480 with 1 Axes>"
      ]
     },
     "metadata": {},
     "output_type": "display_data"
    },
    {
     "data": {
      "image/png": "[encoded data removed]",
      "text/plain": [
       "<Figure size 640x480 with 1 Axes>"
      ]
     },
     "metadata": {},
     "output_type": "display_data"
    },
    {
     "data": {
      "image/png": "[encoded data removed]",
      "text/plain": [
       "<Figure size 640x480 with 1 Axes>"
      ]
     },
     "metadata": {},
     "output_type": "display_data"
    },
    {
     "data": {
      "image/png": "[encoded data removed]",
      "text/plain": [
       "<Figure size 640x480 with 1 Axes>"
      ]
     },
     "metadata": {},
     "output_type": "display_data"
    }
   ],
   "source": [
    "preds = cnn_model.predict(x_test_cnn)\n",
    "wrong = np.where(np.argmax(preds, axis=1) != y_test)[0]\n",
    "\n",
    "for i in range(5):\n",
    "    idx = wrong[i]\n",
    "    plt.imshow(x_test[idx], cmap='gray')\n",
    "    plt.title(f\"True: {y_test[idx]}, Predicted: {np.argmax(preds[idx])}\")\n",
    "    plt.axis('off')\n",
    "    plt.show()\n"
   ]
  }
 ],
 "metadata": {
  "kernelspec": {
   "display_name": "Python 3 (ipykernel)",
   "language": "python",
   "name": "python3"
  },
  "language_info": {
   "codemirror_mode": {
    "name": "ipython",
    "version": 3
   },
   "file_extension": ".py",
   "mimetype": "text/x-python",
   "name": "python",
   "nbconvert_exporter": "python",
   "pygments_lexer": "ipython3",
   "version": "3.11.2"
  }
 },
 "nbformat": 4,
 "nbformat_minor": 5
}
